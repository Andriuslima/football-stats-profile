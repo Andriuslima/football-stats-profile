{
 "cells": [
  {
   "source": [
    "Football Stats Profile Notebook\n",
    "===\n",
    "\n",
    "## Glossary\n",
    "Principal Component Variation = Read as \"Hou much (%) of the data this principal component can explain\""
   ],
   "cell_type": "markdown",
   "metadata": {}
  },
  {
   "source": [
    "from itertools import accumulate\n",
    "\n",
    "import matplotlib.pyplot as plt  # We will use this package to plot some data\n",
    "import numpy as np\n",
    "import pandas  # Library to make it eay to manipulate data in python\n",
    "from sklearn import preprocessing  # This packages give us functions to scaling the data before performing PCA\n",
    "from sklearn.decomposition import PCA  # PCA function from Scikit Learn\n"
   ],
   "cell_type": "code",
   "metadata": {},
   "execution_count": 80,
   "outputs": []
  },
  {
   "source": [
    "## Reading"
   ],
   "cell_type": "markdown",
   "metadata": {}
  },
  {
   "cell_type": "code",
   "execution_count": 81,
   "metadata": {},
   "outputs": [
    {
     "name": "stdout",
     "output_type": "stream",
     "text": [
      "Data sneak peak:\n",
      "                       touches  passes_def  passes_mid  passes_att  \\\n",
      "Gremio                    688          76         336         165   \n",
      "Santos                    459          91         154         104   \n",
      "Fortaleza                 544          93         243         115   \n",
      "Athletico_Paranaense      682         181         294         104   \n",
      "Coritiba                  564          87         241          88   \n",
      "\n",
      "                      passes_forward  passes_backward  passes_left  \\\n",
      "Gremio                           332              242          291   \n",
      "Santos                           217              131          161   \n",
      "Fortaleza                        253              197          233   \n",
      "Athletico_Paranaense             324              253          294   \n",
      "Coritiba                         295              117          202   \n",
      "\n",
      "                      passes_right  passes_long  passes_short  crosses  shots  \n",
      "Gremio                         285           35           542       15     17  \n",
      "Santos                         188           37           312       16      9  \n",
      "Fortaleza                      218           64           387       18     11  \n",
      "Athletico_Paranaense           284           62           517        9     13  \n",
      "Coritiba                       212           55           361       12      2  \n",
      "Data shape: (82, 12)\n"
     ]
    }
   ],
   "source": [
    "STATS_FILE = \"resources/brasileirao_2020_stats_part.csv\"\n",
    "METRICS = [\n",
    "    \"touches\",\n",
    "    \"passes_def\",\n",
    "    \"passes_mid\",\n",
    "    \"passes_att\",\n",
    "    \"passes_forward\",\n",
    "    \"passes_backward\",\n",
    "    \"passes_left\",\n",
    "    \"passes_right\",\n",
    "    \"passes_long\",\n",
    "    \"passes_short\",\n",
    "    \"crosses\",\n",
    "    \"shots\",\n",
    "    # \"possession\"\n",
    "]\n",
    "\n",
    "data = pandas.read_csv(STATS_FILE, sep=\";\", index_col=0).filter(METRICS, axis=1)\n",
    "print(f'Data sneak peak:\\n {data.head()}')\n",
    "print(f'Data shape: {data.shape}')"
   ]
  },
  {
   "source": [
    "## Pre Processing\n",
    "\n",
    "Before performing PCA we need to center and scale the data.\n",
    "\n",
    "After centering the average value for each metric will be 0.\n",
    "\n",
    "And after scaling, the standard deviation for the value for each metric will be 1"
   ],
   "cell_type": "markdown",
   "metadata": {}
  },
  {
   "cell_type": "code",
   "execution_count": 82,
   "metadata": {},
   "outputs": [],
   "source": [
    "scaled_data = preprocessing.scale(data)"
   ]
  },
  {
   "source": [
    "## Apply PCA"
   ],
   "cell_type": "markdown",
   "metadata": {}
  },
  {
   "cell_type": "code",
   "execution_count": 83,
   "metadata": {},
   "outputs": [],
   "source": [
    "pca = PCA()\n",
    "pca.fit(\n",
    "    scaled_data)  # This is where we do all the PCA math (i.e calculate loading scores and the variation each principal component accounts for)\n",
    "pca_data = pca.transform(\n",
    "    scaled_data)  # This is where we generate coordinates for the PCA graph (based on the loading score and the scaled data)"
   ]
  },
  {
   "source": [
    "## Principal Component Variation Graph"
   ],
   "cell_type": "markdown",
   "metadata": {}
  },
  {
   "cell_type": "code",
   "execution_count": 84,
   "metadata": {},
   "outputs": [
    {
     "data": {
      "text/plain": "<Figure size 432x288 with 1 Axes>",
      "image/png": "[encoded data removed]"
     },
     "metadata": {
      "needs_background": "light"
     },
     "output_type": "display_data"
    }
   ],
   "source": [
    "per_var = np.round(pca.explained_variance_ratio_ * 100,\n",
    "                   decimals=1)  # Calculate the percentage variation that each PC accounts for\n",
    "labels = ['PC' + str(x) for x in range(1, len(per_var) + 1)]  # Creating labels for our graph\n",
    "plt.bar(x=range(1, len(per_var) + 1), height=per_var, tick_label=labels)\n",
    "plt.ylabel('Percentage of Explained Variance')\n",
    "plt.xlabel('Principal Component')\n",
    "plt.title('Principal Component Variation Graph')\n",
    "plt.show()"
   ]
  },
  {
   "cell_type": "markdown",
   "source": [
    "## Principal Component Filtering\n",
    "Now we are going to save all the components that account for at least 85% of the data variance.\n",
    "\n",
    "In other words: We are going to keep just the styles of playing that appears on at least 85% of the matches.\n",
    "We are doing this because we are not interested in styles of play that appeared just a few times."
   ],
   "metadata": {
    "collapsed": false,
    "pycharm": {
     "name": "#%% md\n"
    }
   }
  },
  {
   "cell_type": "code",
   "execution_count": 85,
   "outputs": [
    {
     "name": "stdout",
     "output_type": "stream",
     "text": [
      "The first 3 accounts for 89.30000000000001% of the data variation\n"
     ]
    }
   ],
   "source": [
    "min_grouped_variation = 85\n",
    "components = 0\n",
    "sum = 0\n",
    "per_var.sort()\n",
    "per_var_reversed = per_var[::-1]\n",
    "for pca_variation in per_var_reversed:\n",
    "    sum += pca_variation\n",
    "    components += 1\n",
    "    if (sum >= min_grouped_variation):\n",
    "        break\n",
    "print(f'The first {components} accounts for {sum}% of the data variation')"
   ],
   "metadata": {
    "collapsed": false,
    "pycharm": {
     "name": "#%%\n"
    }
   }
  },
  {
   "cell_type": "code",
   "execution_count": 86,
   "metadata": {},
   "outputs": [
    {
     "name": "stdout",
     "output_type": "stream",
     "text": [
      "3\n",
      "This are the the main loading scores for component 0\n",
      "passes_right      0.342657\n",
      "passes_short      0.342518\n",
      "passes_forward    0.340594\n",
      "dtype: float64\n",
      "2\n",
      "This are the the main loading scores for component 1\n",
      "passes_def   -0.594101\n",
      "shots         0.398918\n",
      "dtype: float64\n",
      "2\n",
      "This are the the main loading scores for component 2\n",
      "passes_long    0.840482\n",
      "crosses        0.355017\n",
      "dtype: float64\n"
     ]
    }
   ],
   "source": [
    "for component in range(0, components):\n",
    "    loading_scores = pandas.Series(pca.components_[component], index=METRICS)\n",
    "    sorted_loading_scores = loading_scores.abs().sort_values(ascending=False)\n",
    "    values = sorted_loading_scores.index.values\n",
    "\n",
    "    n_component = 0\n",
    "    index = 0\n",
    "    for x in accumulate(sorted_loading_scores):\n",
    "        index += 1\n",
    "        if abs(x) >= 0.9:\n",
    "            n_component = index\n",
    "            break\n",
    "\n",
    "    print(n_component)\n",
    "    print(f'This are the the main loading scores for component {component}')\n",
    "    print(loading_scores[values][0:n_component])"
   ]
  },
  {
   "cell_type": "code",
   "execution_count": 86,
   "metadata": {},
   "outputs": [],
   "source": []
  }
 ],
 "metadata": {
  "orig_nbformat": 4,
  "language_info": {
   "name": "python",
   "version": "3.9.7"
  },
  "kernelspec": {
   "name": "python3",
   "language": "python",
   "display_name": "Python 3 (ipykernel)"
  },
  "interpreter": {
   "hash": "64ccb061473bf2c974de7f28811e54f37fc70b44634aea5962c24f81ab2fa63c"
  }
 },
 "nbformat": 4,
 "nbformat_minor": 2
}