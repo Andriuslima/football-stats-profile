{
    "cells": [
        {
            "source": [
                "Football Stats Profile Notebook\n",
                "==="
            ],
            "cell_type": "markdown",
            "metadata": {}
        },
        {
            "source": [
                "import pandas"
            ],
            "cell_type": "code",
            "metadata": {},
            "execution_count": null,
            "outputs": []
        },
        {
            "cell_type": "code",
            "execution_count": null,
            "metadata": {},
            "outputs": [],
            "source": [
                "STATS_FILE = \"resources/brasileirao_2020_stats_part.csv\"\n",
                "FEATURES = [\n",
                "    \"team\",\n",
                "    \"touchess\",\n",
                "    \"passes_def\",\n",
                "    \"passes_mid\",\n",
                "    \"passes_att\",\n",
                "    \"passes_forward\",\n",
                "    \"passes_backward\",\n",
                "    \"passes_left\",\n",
                "    \"passes_right\",\n",
                "    \"passes_long\",\n",
                "    \"passes_short\",\n",
                "    \"crosses\",\n",
                "    \"shots\"\n",
                "]"
            ]
        },
        {
            "cell_type": "code",
            "execution_count": null,
            "metadata": {},
            "outputs": [],
            "source": [
                "df = pandas.read_csv(STATS_FILE, sep=\";\").filter(FEATURES, axis=1)\n",
                "print(df.head())"
            ]
        }
    ],
    "metadata": {
        "orig_nbformat": 4,
        "language_info": {
            "name": "python",
            "version": "3.9.7"
        },
        "kernelspec": {
            "name": "python3",
            "display_name": "Python 3.9.7 64-bit ('football-stats-profile': conda)"
        },
        "interpreter": {
            "hash": "64ccb061473bf2c974de7f28811e54f37fc70b44634aea5962c24f81ab2fa63c"
        }
    },
    "nbformat": 4,
    "nbformat_minor": 2
}