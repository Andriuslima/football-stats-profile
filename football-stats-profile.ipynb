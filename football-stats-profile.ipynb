{
    "cells": [
        {
            "source": [
                "Football Stats Profile Notebook\n",
                "===\n",
                "\n",
                "## Glossary\n",
                "Principal Component Variation = Read as \"Hou much (%) of the data this principal component can explain\""
            ],
            "cell_type": "markdown",
            "metadata": {}
        },
        {
            "source": [
                "import pandas # Library to make it eay to manipulate data in python\n",
                "import numpy as np\n",
                "from sklearn.decomposition import PCA # PCA function from Scikit Learn\n",
                "from sklearn import preprocessing # This packages give us functions to scaling the data before performing PCA\n",
                "import matplotlib.pyplot as plt # We will use this package to plot some data\n"
            ],
            "cell_type": "code",
            "metadata": {},
            "execution_count": null,
            "outputs": []
        },
        {
            "source": [
                "## Reading"
            ],
            "cell_type": "markdown",
            "metadata": {}
        },
        {
            "cell_type": "code",
            "execution_count": null,
            "metadata": {},
            "outputs": [],
            "source": [
                "STATS_FILE = \"resources/brasileirao_2020_stats_part.csv\"\n",
                "METRICS = [\n",
                "    \"touches\",\n",
                "    \"passes_def\",\n",
                "    \"passes_mid\",\n",
                "    \"passes_att\",\n",
                "    \"passes_forward\",\n",
                "    \"passes_backward\",\n",
                "    \"passes_left\",\n",
                "    \"passes_right\",\n",
                "    \"passes_long\",\n",
                "    \"passes_short\",\n",
                "    \"crosses\",\n",
                "    \"shots\"\n",
                "]\n",
                "\n",
                "data = pandas.read_csv(STATS_FILE, sep=\";\", index_col=0).filter(METRICS, axis=1)\n",
                "print(f'Data sneak peak:\\n {data.head()}')\n",
                "print(f'Data shape: {data.shape}')\n",
                "print(*data.columns)\n",
                "# print(data.values)"
            ]
        },
        {
            "source": [
                "## Pre Processing\n",
                "\n",
                "Before performing PCA we need to center and scale the data.\n",
                "\n",
                "After centering the average value for each metric will be 0.\n",
                "\n",
                "And after scaling, the standard deviation for the value for each metric will be 1"
            ],
            "cell_type": "markdown",
            "metadata": {}
        },
        {
            "cell_type": "code",
            "execution_count": null,
            "metadata": {},
            "outputs": [],
            "source": [
                "scaled_data = preprocessing.scale(data)"
            ]
        },
        {
            "source": [
                "## Apply PCA"
            ],
            "cell_type": "markdown",
            "metadata": {}
        },
        {
            "cell_type": "code",
            "execution_count": null,
            "metadata": {},
            "outputs": [],
            "source": [
                "pca = PCA()\n",
                "pca.fit(scaled_data) # This is where we do all the PCA math (i.e calculate loading scores and the variation each principal component accounts for)\n",
                "pca_data = pca.transform(scaled_data) # This is where we generate coordinates for the PCA graph (based on the loading score and the scaled data)"
            ]
        },
        {
            "source": [
                "## Principal Component Variation Graph"
            ],
            "cell_type": "markdown",
            "metadata": {}
        },
        {
            "cell_type": "code",
            "execution_count": null,
            "metadata": {},
            "outputs": [],
            "source": [
                "per_var = np.round(pca.explained_variance_ratio_* 100, decimals=1) # Calculate the percentage variation that each PC accounts for\n",
                "labels = ['PC' + str(x) for x in range(1, len(per_var)+1)] # Creating labels for our graph\n",
                "plt.bar(x=range(1,len(per_var)+1), height=per_var, tick_label=labels)\n",
                "plt.ylabel('Percentage of Explained Variance')\n",
                "plt.xlabel('Principal Component')\n",
                "plt.title('Principal Component Variation Graph')\n",
                "plt.show()"
            ]
        },
        {
            "cell_type": "code",
            "execution_count": null,
            "metadata": {},
            "outputs": [],
            "source": [
                "#########################\n",
                "#\n",
                "# Determine which genes had the biggest influence on PC1\n",
                "#\n",
                "#########################\n",
                " \n",
                "## get the name of the top 10 measurements (genes) that contribute\n",
                "## most to pc1.\n",
                "## first, get the loading scores\n",
                "loading_scores = pandas.Series(pca.components_[0], index=METRICS)\n",
                "## now sort the loading scores based on their magnitude\n",
                "sorted_loading_scores = loading_scores.abs().sort_values(ascending=False)\n",
                " \n",
                "# get the names of the top 10 genes\n",
                "top_10_genes = sorted_loading_scores[0:10].index.values\n",
                " \n",
                "## print the gene names and their scores (and +/- sign)\n",
                "print(loading_scores[top_10_genes])"
            ]
        },
        {
            "cell_type": "code",
            "execution_count": null,
            "metadata": {},
            "outputs": [],
            "source": [
                "#the following code makes a fancy looking plot using PC1 and PC2\n",
                "index = [*data.values]\n",
                "print(len(index))\n",
                "pca_df = pandas.DataFrame(pca_data, index=[*data.values], columns=labels) \n",
                "plt.scatter(pca_df.PC1, pca_df.PC2)\n",
                "plt.title('My PCA Graph')\n",
                "plt.xlabel('PC1 - {0}%'.format(per_var[0]))\n",
                "plt.ylabel('PC2 - {0}%'.format(per_var[1]))\n",
                " \n",
                "for sample in pca_df.index:\n",
                "    plt.annotate(sample, (pca_df.PC1.loc[sample], pca_df.PC2.loc[sample]))\n",
                " \n",
                "plt.show()"
            ]
        },
        {
            "cell_type": "code",
            "execution_count": null,
            "metadata": {},
            "outputs": [],
            "source": []
        }
    ],
    "metadata": {
        "orig_nbformat": 4,
        "language_info": {
            "name": "python",
            "version": "3.9.7"
        },
        "kernelspec": {
            "name": "python3",
            "display_name": "Python 3.9.7 64-bit ('football-stats-profile': conda)"
        },
        "interpreter": {
            "hash": "64ccb061473bf2c974de7f28811e54f37fc70b44634aea5962c24f81ab2fa63c"
        }
    },
    "nbformat": 4,
    "nbformat_minor": 2
}