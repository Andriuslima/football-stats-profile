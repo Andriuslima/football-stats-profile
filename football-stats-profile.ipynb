{
 "cells": [
  {
   "source": [
    "Football Stats Profile Notebook\n",
    "===\n",
    "\n",
    "## Glossary\n",
    "Principal Component Variation = Read as \"Hou much (%) of the data this principal component can explain\""
   ],
   "cell_type": "markdown",
   "metadata": {}
  },
  {
   "source": [
    "from itertools import accumulate\n",
    "\n",
    "import matplotlib.pyplot as plt  # We will use this package to plot some data\n",
    "import numpy as np\n",
    "import pandas  # Library to make it eay to manipulate data in python\n",
    "from sklearn import preprocessing  # This packages give us functions to scaling the data before performing PCA\n",
    "from sklearn.decomposition import PCA  # PCA function from Scikit Learn\n"
   ],
   "cell_type": "code",
   "metadata": {},
   "execution_count": 44,
   "outputs": []
  },
  {
   "source": [
    "## Dataset Reading"
   ],
   "cell_type": "markdown",
   "metadata": {}
  },
  {
   "cell_type": "code",
   "execution_count": 45,
   "metadata": {},
   "outputs": [
    {
     "name": "stdout",
     "output_type": "stream",
     "text": [
      "Data sneak peak:\n",
      "                       passes_def  passes_mid  passes_att  passes_forward  \\\n",
      "grêmio                        76         336         165             332   \n",
      "santos                        91         154         104             217   \n",
      "Fortaleza                     93         243         115             253   \n",
      "Athletico Paranaense         181         294         104             324   \n",
      "Coritiba                      87         241          88             295   \n",
      "\n",
      "                      passes_backward  passes_horizontal  passes_long  \\\n",
      "grêmio                            242                576           35   \n",
      "santos                            131                349           37   \n",
      "Fortaleza                         197                451           64   \n",
      "Athletico Paranaense              253                578           62   \n",
      "Coritiba                          117                414           55   \n",
      "\n",
      "                      passes_short  crosses  shots  \n",
      "grêmio                         542       15     17  \n",
      "santos                         312       16      9  \n",
      "Fortaleza                      387       18     11  \n",
      "Athletico Paranaense           517        9     13  \n",
      "Coritiba                       361       12      2  \n",
      "Data shape: (192, 10)\n"
     ]
    }
   ],
   "source": [
    "STATS_FILE = \"resources/brasileirao_2020_stats.csv\"\n",
    "METRICS = [\n",
    "    # \"touches\",\n",
    "    \"passes_def\",\n",
    "    \"passes_mid\",\n",
    "    \"passes_att\",\n",
    "    \"passes_forward\",\n",
    "    \"passes_backward\",\n",
    "    # \"passes_vertical\",\n",
    "    # \"passes_left\",\n",
    "    # \"passes_right\",\n",
    "    \"passes_horizontal\",\n",
    "    \"passes_long\",\n",
    "    \"passes_short\",\n",
    "    \"crosses\",\n",
    "    \"shots\",\n",
    "    # \"possession\"\n",
    "]\n",
    "\n",
    "data = pandas.read_csv(STATS_FILE, sep=\";\", index_col=0).filter(METRICS, axis=1)\n",
    "print(f'Data sneak peak:\\n {data.head()}')\n",
    "print(f'Data shape: {data.shape}')"
   ]
  },
  {
   "source": [
    "## Pre Processing\n",
    "\n",
    "Before performing PCA we need to center and scale the data.\n",
    "\n",
    "After centering the average value for each metric will be 0.\n",
    "\n",
    "And after scaling, the standard deviation for the value for each metric will be 1"
   ],
   "cell_type": "markdown",
   "metadata": {}
  },
  {
   "cell_type": "code",
   "execution_count": 46,
   "metadata": {},
   "outputs": [],
   "source": [
    "scaled_data = preprocessing.scale(data)"
   ]
  },
  {
   "source": [
    "## Apply PCA"
   ],
   "cell_type": "markdown",
   "metadata": {}
  },
  {
   "cell_type": "code",
   "execution_count": 47,
   "metadata": {},
   "outputs": [],
   "source": [
    "pca = PCA()\n",
    "\n",
    "# This is where we do all the PCA math# (i.e calculate loading scores and the variation each principal component accounts for)\n",
    "pca.fit(scaled_data)\n",
    "\n",
    "# This is where we generate coordinates for the PCA graph (based on the loading score and the scaled data)\n",
    "pca_data = pca.transform(scaled_data)"
   ]
  },
  {
   "source": [
    "## Principal Component Variation Graph"
   ],
   "cell_type": "markdown",
   "metadata": {}
  },
  {
   "cell_type": "code",
   "execution_count": 48,
   "metadata": {},
   "outputs": [
    {
     "data": {
      "text/plain": "<Figure size 432x288 with 1 Axes>",
      "image/png": "[encoded data removed]"
     },
     "metadata": {
      "needs_background": "light"
     },
     "output_type": "display_data"
    }
   ],
   "source": [
    "# Calculate the percentage variation that each PC accounts for\n",
    "per_var = np.round(pca.explained_variance_ratio_ * 100, decimals=1)\n",
    "\n",
    "# Creating labels for our graph\n",
    "labels = ['PC' + str(x) for x in range(1, len(per_var) + 1)]\n",
    "\n",
    "plt.bar(x=range(1, len(per_var) + 1), height=per_var, tick_label=labels)\n",
    "plt.ylabel('Percentage of Explained Variance')\n",
    "plt.xlabel('Principal Component')\n",
    "plt.title('Principal Component Variation Graph')\n",
    "plt.show()"
   ]
  },
  {
   "cell_type": "markdown",
   "source": [
    "## Principal Component Filtering\n",
    "Now we are going to save all the components that account for at least 90% of the data variance.\n",
    "\n",
    "In other words: We are going to keep just the styles of playing that appears on at least 90% of the matches.\n",
    "We are doing this because we are not interested in styles of play that appeared just a few times in our game dataset."
   ],
   "metadata": {
    "collapsed": false,
    "pycharm": {
     "name": "#%% md\n"
    }
   }
  },
  {
   "cell_type": "code",
   "execution_count": 49,
   "outputs": [
    {
     "name": "stdout",
     "output_type": "stream",
     "text": [
      "The first 4 accounts for 92.0% of the data variation\n"
     ]
    }
   ],
   "source": [
    "min_grouped_variation = 90\n",
    "components = 0\n",
    "var_sum = 0\n",
    "per_var.sort()\n",
    "per_var_reversed = per_var[::-1]\n",
    "for pca_variation in per_var_reversed:\n",
    "    var_sum += pca_variation\n",
    "    components += 1\n",
    "    if var_sum >= min_grouped_variation:\n",
    "        break\n",
    "print(f'The first {components} accounts for {var_sum}% of the data variation')"
   ],
   "metadata": {
    "collapsed": false,
    "pycharm": {
     "name": "#%%\n"
    }
   }
  },
  {
   "cell_type": "code",
   "execution_count": 52,
   "metadata": {
    "pycharm": {
     "name": "#%%\n"
    }
   },
   "outputs": [
    {
     "name": "stdout",
     "output_type": "stream",
     "text": [
      "This are the the main loading scores for component 0\n",
      "passes_short         0.396446\n",
      "passes_horizontal    0.395390\n",
      "passes_forward       0.390210\n",
      "dtype: float64\n",
      "This are the the main loading scores for component 1\n",
      "passes_def     0.576994\n",
      "passes_long    0.452704\n",
      "dtype: float64\n",
      "This are the the main loading scores for component 2\n",
      "passes_long   -0.871983\n",
      "crosses       -0.285306\n",
      "dtype: float64\n",
      "This are the the main loading scores for component 3\n",
      "passes_def    0.706600\n",
      "passes_mid   -0.461977\n",
      "dtype: float64\n"
     ]
    }
   ],
   "source": [
    "for component in range(0, components):\n",
    "    loading_scores = pandas.Series(pca.components_[component], index=METRICS)\n",
    "    sorted_loading_scores = loading_scores.abs().sort_values(ascending=False)\n",
    "    values = sorted_loading_scores.index.values\n",
    "\n",
    "    n_component = 0\n",
    "    index = 0\n",
    "    for x in accumulate(sorted_loading_scores):\n",
    "        index += 1\n",
    "        if abs(x) >= 0.9:\n",
    "            n_component = index\n",
    "            break\n",
    "\n",
    "    print(f'This are the the main loading scores for component {component}')\n",
    "    print(loading_scores[values][0:n_component])"
   ]
  }
 ],
 "metadata": {
  "orig_nbformat": 4,
  "language_info": {
   "name": "python",
   "version": "3.9.7"
  },
  "kernelspec": {
   "name": "python3",
   "language": "python",
   "display_name": "Python 3 (ipykernel)"
  },
  "interpreter": {
   "hash": "64ccb061473bf2c974de7f28811e54f37fc70b44634aea5962c24f81ab2fa63c"
  }
 },
 "nbformat": 4,
 "nbformat_minor": 2
}