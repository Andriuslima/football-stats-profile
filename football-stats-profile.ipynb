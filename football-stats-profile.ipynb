{
    "cells": [
        {
            "source": [
                "Football Stats Profile Notebook\n",
                "===\n",
                "Independent Variables (Features) = Variables that we are going to use to predict (ex.: possession, shots, etc)\n",
                "\n",
                "Dependent Variable = Variables that we want to predict (final score)"
            ],
            "cell_type": "markdown",
            "metadata": {}
        },
        {
            "source": [
                "import pandas"
            ],
            "cell_type": "code",
            "metadata": {},
            "execution_count": null,
            "outputs": []
        },
        {
            "cell_type": "code",
            "execution_count": null,
            "metadata": {},
            "outputs": [],
            "source": [
                "STATS_FILE = \"resources/Chelsea-Stats.csv\""
            ]
        },
        {
            "cell_type": "code",
            "execution_count": null,
            "metadata": {},
            "outputs": [],
            "source": [
                "df = pandas.read_csv(STATS_FILE, sep=\";\")\n",
                "print(df.head())"
            ]
        }
    ],
    "metadata": {
        "orig_nbformat": 4,
        "language_info": {
            "name": "python",
            "version": "3.9.5"
        },
        "kernelspec": {
            "name": "python3",
            "display_name": "Python 3.9.5 64-bit ('football-stats-profile': conda)"
        },
        "interpreter": {
            "hash": "64ccb061473bf2c974de7f28811e54f37fc70b44634aea5962c24f81ab2fa63c"
        }
    },
    "nbformat": 4,
    "nbformat_minor": 2
}